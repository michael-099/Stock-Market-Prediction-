{
 "cells": [
  {
   "cell_type": "code",
   "execution_count": 25,
   "metadata": {},
   "outputs": [],
   "source": [
    "import numpy as np\n",
    "import matplotlib.pyplot as plt\n",
    "import pandas as pd\n",
    "import pandas_datareader as web\n",
    "import datetime as dt\n",
    "import yfinance as yf\n",
    "\n",
    "from sklearn.preprocessing import MinMaxScaler\n",
    "from tensorflow.keras.models import Sequential\n",
    "from tensorflow.keras.layers import Dense, Dropout, LSTM"
   ]
  },
  {
   "cell_type": "code",
   "execution_count": 34,
   "metadata": {},
   "outputs": [
    {
     "name": "stderr",
     "output_type": "stream",
     "text": [
      "[*********************100%***********************]  1 of 1 completed"
     ]
    },
    {
     "name": "stdout",
     "output_type": "stream",
     "text": [
      "Price       Adj Close      Close       High        Low       Open    Volume\n",
      "Ticker           TSLA       TSLA       TSLA       TSLA       TSLA      TSLA\n",
      "Date                                                                       \n",
      "2015-01-02  14.620667  14.620667  14.883333  14.217333  14.858000  71466000\n",
      "2015-01-05  14.006000  14.006000  14.433333  13.810667  14.303333  80527500\n",
      "2015-01-06  14.085333  14.085333  14.280000  13.614000  14.004000  93928500\n",
      "2015-01-07  14.063333  14.063333  14.318667  13.985333  14.223333  44526000\n",
      "2015-01-08  14.041333  14.041333  14.253333  14.000667  14.187333  51637500\n",
      "<class 'pandas.core.frame.DataFrame'>\n",
      "DatetimeIndex: 2014 entries, 2015-01-02 to 2022-12-30\n",
      "Data columns (total 6 columns):\n",
      " #   Column             Non-Null Count  Dtype  \n",
      "---  ------             --------------  -----  \n",
      " 0   (Adj Close, TSLA)  2014 non-null   float64\n",
      " 1   (Close, TSLA)      2014 non-null   float64\n",
      " 2   (High, TSLA)       2014 non-null   float64\n",
      " 3   (Low, TSLA)        2014 non-null   float64\n",
      " 4   (Open, TSLA)       2014 non-null   float64\n",
      " 5   (Volume, TSLA)     2014 non-null   int64  \n",
      "dtypes: float64(5), int64(1)\n",
      "memory usage: 110.1 KB\n"
     ]
    },
    {
     "name": "stderr",
     "output_type": "stream",
     "text": [
      "\n"
     ]
    }
   ],
   "source": [
    "\n",
    "\n",
    "\n",
    "start = dt.datetime(2015, 1, 1)\n",
    "end = dt.datetime(2023,1,1)\n",
    "\n",
    "\n",
    "tesla_data = yf.download('TSLA', start=start, end=end)\n",
    "\n",
    "print(tesla_data.head())\n",
    "tesla_data.shape\n",
    "tesla_data.info()\n"
   ]
  },
  {
   "cell_type": "code",
   "execution_count": 35,
   "metadata": {},
   "outputs": [
    {
     "data": {
      "text/plain": [
       "array([[0.01259433],\n",
       "       [0.01105916],\n",
       "       [0.0112573 ],\n",
       "       ...,\n",
       "       [0.25757757],\n",
       "       [0.28033027],\n",
       "       [0.28372695]])"
      ]
     },
     "execution_count": 35,
     "metadata": {},
     "output_type": "execute_result"
    }
   ],
   "source": [
    "# Prepare Data\n",
    "scaler = MinMaxScaler(feature_range=(0, 1))\n",
    "scaled_data = scaler.fit_transform(tesla_data[(\"Close\", \"TSLA\")].values.reshape(-1, 1))\n",
    "scaled_data"
   ]
  },
  {
   "cell_type": "code",
   "execution_count": 36,
   "metadata": {},
   "outputs": [],
   "source": [
    "prediction_days=100"
   ]
  },
  {
   "cell_type": "code",
   "execution_count": 37,
   "metadata": {},
   "outputs": [],
   "source": [
    "x_train=[]\n",
    "y_train=[]"
   ]
  },
  {
   "cell_type": "code",
   "execution_count": 38,
   "metadata": {},
   "outputs": [],
   "source": [
    "for x in range(prediction_days, len(scaled_data)):\n",
    "    x_train.append(scaled_data[x-prediction_days:x, 0])\n",
    "    y_train.append(scaled_data[x, 0]) "
   ]
  },
  {
   "cell_type": "code",
   "execution_count": 39,
   "metadata": {},
   "outputs": [],
   "source": [
    "x_train, y_train = np.array(x_train), np.array(y_train)\n",
    "x_train = np.reshape(x_train, (x_train.shape[0], x_train.shape[1], 1))"
   ]
  },
  {
   "cell_type": "markdown",
   "metadata": {},
   "source": [
    "training the model"
   ]
  },
  {
   "cell_type": "code",
   "execution_count": 40,
   "metadata": {},
   "outputs": [],
   "source": [
    "model=Sequential()"
   ]
  },
  {
   "cell_type": "code",
   "execution_count": 41,
   "metadata": {},
   "outputs": [
    {
     "name": "stderr",
     "output_type": "stream",
     "text": [
      "c:\\Users\\micha\\anaconda3\\Lib\\site-packages\\keras\\src\\layers\\rnn\\rnn.py:200: UserWarning: Do not pass an `input_shape`/`input_dim` argument to a layer. When using Sequential models, prefer using an `Input(shape)` object as the first layer in the model instead.\n",
      "  super().__init__(**kwargs)\n"
     ]
    }
   ],
   "source": [
    "model.add(LSTM(units=50, return_sequences=True, input_shape=(x_train.shape[1], 1)))\n",
    "model.add(Dropout(0.2))\n",
    "\n",
    "model.add(LSTM(units=50, return_sequences=True))\n",
    "model.add(Dropout(0.2))\n",
    "\n",
    "model.add(LSTM(units=50))\n",
    "model.add(Dropout(0.2))\n",
    "\n",
    "model.add(Dense(units=1)) # Prediction of the next closing value"
   ]
  },
  {
   "cell_type": "code",
   "execution_count": null,
   "metadata": {},
   "outputs": [
    {
     "name": "stderr",
     "output_type": "stream",
     "text": [
      "[*********************100%***********************]  1 of 1 completed"
     ]
    },
    {
     "name": "stdout",
     "output_type": "stream",
     "text": [
      "Price        Adj Close       Close        High         Low        Open  \\\n",
      "Ticker            TSLA        TSLA        TSLA        TSLA        TSLA   \n",
      "Date                                                                     \n",
      "2023-02-02  188.270004  188.270004  196.750000  182.610001  187.330002   \n",
      "2023-02-03  189.979996  189.979996  199.000000  183.690002  183.949997   \n",
      "2023-02-06  194.759995  194.759995  198.169998  189.919998  193.009995   \n",
      "2023-02-07  196.809998  196.809998  197.500000  189.550003  196.429993   \n",
      "2023-02-08  201.289993  201.289993  203.000000  194.309998  196.100006   \n",
      "...                ...         ...         ...         ...         ...   \n",
      "2024-11-22  352.559998  352.559998  361.529999  337.700012  341.089996   \n",
      "2024-11-25  338.589996  338.589996  361.929993  338.200012  360.140015   \n",
      "2024-11-26  338.230011  338.230011  346.959991  335.660004  341.000000   \n",
      "2024-11-27  332.890015  332.890015  342.549988  326.589996  341.799988   \n",
      "2024-11-29  345.160004  345.160004  345.450012  334.649994  336.079987   \n",
      "\n",
      "Price          Volume  \n",
      "Ticker           TSLA  \n",
      "Date                   \n",
      "2023-02-02  217448300  \n",
      "2023-02-03  232662000  \n",
      "2023-02-06  186188100  \n",
      "2023-02-07  186010300  \n",
      "2023-02-08  180673600  \n",
      "...               ...  \n",
      "2024-11-22   89140700  \n",
      "2024-11-25   95890900  \n",
      "2024-11-26   62295900  \n",
      "2024-11-27   57896400  \n",
      "2024-11-29   37167600  \n",
      "\n",
      "[460 rows x 6 columns]\n"
     ]
    },
    {
     "name": "stderr",
     "output_type": "stream",
     "text": [
      "\n"
     ]
    }
   ],
   "source": [
    "\n",
    "\n",
    "\n",
    "test_start = dt.datetime(2023, 2, 2)\n",
    "test_end = dt.datetime.now()\n",
    "\n",
    "\n",
    "test_tesla_data = yf.download('TSLA', start=test_start, end=test_end)\n",
    "actual_prices=test_tesla_data[(\"Close\", \"TSLA\")].values\n",
    "# print(test_tesla_data)"
   ]
  },
  {
   "cell_type": "code",
   "execution_count": 49,
   "metadata": {},
   "outputs": [],
   "source": [
    "total_dataset = pd.concat((tesla_data[(\"Close\", \"TSLA\")],test_tesla_data[(\"Close\", \"TSLA\")]), axis=0)\n",
    "model_inputs = total_dataset[len(total_dataset) - len(test_tesla_data) - prediction_days: ].values\n",
    "model_inputs = model_inputs.reshape(-1,1)\n",
    "model_inputs = scaler.transform(model_inputs)"
   ]
  },
  {
   "cell_type": "code",
   "execution_count": 50,
   "metadata": {},
   "outputs": [
    {
     "name": "stdout",
     "output_type": "stream",
     "text": [
      "\u001b[1m15/15\u001b[0m \u001b[32m━━━━━━━━━━━━━━━━━━━━\u001b[0m\u001b[37m\u001b[0m \u001b[1m2s\u001b[0m 80ms/step\n"
     ]
    }
   ],
   "source": [
    "x_test = []\n",
    "for x in range(prediction_days, len(model_inputs)):\n",
    "    x_test.append(model_inputs[x-prediction_days:x, 0])\n",
    "x_test = np.array(x_test)\n",
    "x_test = np.reshape(x_test, (x_test.shape[0],x_test.shape[1],1))\n",
    "\n",
    "predicted_price = model.predict(x_test)\n",
    "predicted_price = scaler.inverse_transform(predicted_price)\n"
   ]
  },
  {
   "cell_type": "code",
   "execution_count": 53,
   "metadata": {},
   "outputs": [
    {
     "data": {
      "image/png": "[encoded data removed]",
      "text/plain": [
       "<Figure size 640x480 with 1 Axes>"
      ]
     },
     "metadata": {},
     "output_type": "display_data"
    }
   ],
   "source": [
    "plt.plot(actual_prices, color='black',label='Actual Share price')\n",
    "plt.plot(predicted_price, color='green',label='Predicted Share price')\n",
    "plt.title(f\"Tesla Share Price prediction\")\n",
    "plt.xlabel('Time')\n",
    "plt.ylabel(f'Tesla Share Price')\n",
    "plt.legend()\n",
    "plt.show()\n"
   ]
  },
  {
   "cell_type": "code",
   "execution_count": 57,
   "metadata": {},
   "outputs": [
    {
     "name": "stdout",
     "output_type": "stream",
     "text": [
      "\u001b[1m1/1\u001b[0m \u001b[32m━━━━━━━━━━━━━━━━━━━━\u001b[0m\u001b[37m\u001b[0m \u001b[1m0s\u001b[0m 114ms/step\n",
      "Tomorrow's Tesla share price: [[-4.588677]]\n"
     ]
    }
   ],
   "source": [
    "real_data = [model_inputs[len(model_inputs) + 1 - prediction_days : len(model_inputs)+1, 0]]\n",
    "real_data =  np.array(real_data)\n",
    "real_data = np.reshape(real_data, (real_data.shape[0], real_data.shape[1], 1))\n",
    "prediction = model.predict(real_data)\n",
    "prediction = scaler.inverse_transform(prediction)\n",
    "print(f\"Tomorrow's Tesla share price: {prediction}\")\n"
   ]
  }
 ],
 "metadata": {
  "kernelspec": {
   "display_name": "Python (Stock_Market_Prediction)",
   "language": "python",
   "name": "stock_market_prediction"
  },
  "language_info": {
   "codemirror_mode": {
    "name": "ipython",
    "version": 3
   },
   "file_extension": ".py",
   "mimetype": "text/x-python",
   "name": "python",
   "nbconvert_exporter": "python",
   "pygments_lexer": "ipython3",
   "version": "3.12.7"
  }
 },
 "nbformat": 4,
 "nbformat_minor": 2
}
